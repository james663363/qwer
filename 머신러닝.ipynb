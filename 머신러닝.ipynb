{
 "cells": [
  {
   "cell_type": "code",
   "execution_count": 15,
   "id": "13a319c4-4bac-47d8-8cd9-7b3a16f13063",
   "metadata": {},
   "outputs": [
    {
     "name": "stdout",
     "output_type": "stream",
     "text": [
      "Train Data:\n",
      "   PassengerId  Survived  Pclass  \\\n",
      "0            1         0       3   \n",
      "1            2         1       1   \n",
      "2            3         1       3   \n",
      "3            4         1       1   \n",
      "4            5         0       3   \n",
      "\n",
      "                                                Name     Sex   Age  SibSp  \\\n",
      "0                            Braund, Mr. Owen Harris    male  22.0      1   \n",
      "1  Cumings, Mrs. John Bradley (Florence Briggs Th...  female  38.0      1   \n",
      "2                             Heikkinen, Miss. Laina  female  26.0      0   \n",
      "3       Futrelle, Mrs. Jacques Heath (Lily May Peel)  female  35.0      1   \n",
      "4                           Allen, Mr. William Henry    male  35.0      0   \n",
      "\n",
      "   Parch            Ticket     Fare Cabin Embarked  \n",
      "0      0         A/5 21171   7.2500   NaN        S  \n",
      "1      0          PC 17599  71.2833   C85        C  \n",
      "2      0  STON/O2. 3101282   7.9250   NaN        S  \n",
      "3      0            113803  53.1000  C123        S  \n",
      "4      0            373450   8.0500   NaN        S   \n",
      "\n",
      "Test Data:\n",
      "   PassengerId  Pclass                                          Name     Sex  \\\n",
      "0          892       3                              Kelly, Mr. James    male   \n",
      "1          893       3              Wilkes, Mrs. James (Ellen Needs)  female   \n",
      "2          894       2                     Myles, Mr. Thomas Francis    male   \n",
      "3          895       3                              Wirz, Mr. Albert    male   \n",
      "4          896       3  Hirvonen, Mrs. Alexander (Helga E Lindqvist)  female   \n",
      "\n",
      "    Age  SibSp  Parch   Ticket     Fare Cabin Embarked  \n",
      "0  34.5      0      0   330911   7.8292   NaN        Q  \n",
      "1  47.0      1      0   363272   7.0000   NaN        S  \n",
      "2  62.0      0      0   240276   9.6875   NaN        Q  \n",
      "3  27.0      0      0   315154   8.6625   NaN        S  \n",
      "4  22.0      1      1  3101298  12.2875   NaN        S   \n",
      "\n",
      "Gender Submission Data:\n",
      "   PassengerId  Survived\n",
      "0          892         0\n",
      "1          893         1\n",
      "2          894         0\n",
      "3          895         0\n",
      "4          896         1\n"
     ]
    }
   ],
   "source": [
    "# 필요한 라이브러리 불러오기\n",
    "import pandas as pd\n",
    "from sklearn.ensemble import RandomForestClassifier\n",
    "from sklearn.model_selection import train_test_split\n",
    "from sklearn.metrics import accuracy_score\n",
    "\n",
    "# 파일 경로 설정 (폴더 위치를 기준으로 수정)\n",
    "train_path = \"Titanic/train.csv\"\n",
    "test_path = \"Titanic/test.csv\"\n",
    "gender_submission_path = \"Titanic/gender_submission.csv\"\n",
    "\n",
    "# 각 파일 읽기\n",
    "train_data = pd.read_csv(train_path)\n",
    "test_data = pd.read_csv(test_path)\n",
    "gender_submission_data = pd.read_csv(gender_submission_path)\n",
    "\n",
    "# 데이터 확인\n",
    "print(\"Train Data:\")\n",
    "print(train_data.head(), \"\\n\")\n",
    "\n",
    "print(\"Test Data:\")\n",
    "print(test_data.head(), \"\\n\")\n",
    "\n",
    "print(\"Gender Submission Data:\")\n",
    "print(gender_submission_data.head())\n"
   ]
  },
  {
   "cell_type": "markdown",
   "id": "d6c08cbf-20bb-44d8-a92d-16b05e299ca8",
   "metadata": {},
   "source": [
    "타이타닉 생존자 예측을 위해 랜덤 포레스트 알고리즘을 사용하여 승객의 생존 여부를 예측하는 모델을 구축합니다.\n",
    "1. 데이터 준비\n",
    "train.csv: 모델을 학습하는 데 사용되는 데이터입니다. 여기에는 승객들의 특성(성별, 나이, 요금 등)과 생존 여부(목표 변수)가 포함됩니다.\n",
    "test.csv: 예측에 사용할 데이터입니다. 여기에는 승객들의 특성만 포함되고, 생존 여부는 포함되지 않으므로, 우리가 예측한 결과를 제출해야 합니다."
   ]
  },
  {
   "cell_type": "code",
   "execution_count": 16,
   "id": "4dcd11be-14c7-41b4-b9ce-db0360c54433",
   "metadata": {},
   "outputs": [],
   "source": [
    "#2. 데이터 전처리\n",
    "# 데이터 전처리: 성별(Sex)과 탑승 항구(Embarked)를 숫자로 변환\n",
    "train_data['Sex'] = train_data['Sex'].map({'male': 0, 'female': 1})\n",
    "test_data['Sex'] = test_data['Sex'].map({'male': 0, 'female': 1})\n",
    "\n",
    "# 'Embarked'의 결측값을 최빈값으로 채우기\n",
    "train_data['Embarked'].fillna(train_data['Embarked'].mode()[0], inplace=True)\n",
    "test_data['Embarked'].fillna(test_data['Embarked'].mode()[0], inplace=True)\n",
    "\n",
    "# 'Fare'와 'Age' 결측값을 평균값으로 채우기\n",
    "train_data['Fare'].fillna(train_data['Fare'].mean(), inplace=True)\n",
    "test_data['Fare'].fillna(test_data['Fare'].mean(), inplace=True)\n",
    "train_data['Age'].fillna(train_data['Age'].mean(), inplace=True)\n",
    "test_data['Age'].fillna(test_data['Age'].mean(), inplace=True)\n",
    "\n",
    "\n",
    "# 범주형 'Embarked' 변환\n",
    "train_data['Embarked'] = train_data['Embarked'].map({'C': 0, 'Q': 1, 'S': 2})\n",
    "test_data['Embarked'] = test_data['Embarked'].map({'C': 0, 'Q': 1, 'S': 2})"
   ]
  },
  {
   "cell_type": "markdown",
   "id": "4931851d-1e0b-4c85-8be1-e428ad7f75f8",
   "metadata": {},
   "source": [
    "성별(Sex): 성별 정보를 남성과 여성을 구분하기 위해 이를 숫자 0 (남성)과 1 (여성)으로 변환합니다.\n",
    "Embarked 컬럼도 범주형 데이터입니다. 승객들이 탑승한 항구(Cherbourg, Queenstown, Southampton)를 각각 C, Q, S로 나타내며, 이를 숫자로 변환합니다.\n",
    "결측값 처리: 결측값이 있는 Age, Fare, Embarked 컬럼에 대해 평균값과 최빈값으로 결측값을 채웁니다."
   ]
  },
  {
   "cell_type": "markdown",
   "id": "88ee6b8b-fc6d-455c-a337-8c7a12c66ad9",
   "metadata": {},
   "source": [
    "성별(Sex): 성별 정보를 남성과 여성을 구분하기 위해 이를 숫자 0 (남성)과 1 (여성)으로 변환합니다.\n",
    "Embarked 컬럼도 범주형 데이터입니다. 승객들이 탑승한 항구(Cherbourg, Queenstown, Southampton)를 각각 C, Q, S로 나타내며, 이를 숫자로 변환합니다.\n",
    "결측값 처리: 결측값이 있는 Age, Fare, Embarked 컬럼에 대해 평균값과 최빈값으로 결측값을 채웁니다.\n",
    "데이터 전처리: 성별(Sex)과 탑승 항구(Embarked)를 숫자로 변환"
   ]
  },
  {
   "cell_type": "code",
   "execution_count": 17,
   "id": "8c328d79-9de9-4a61-8d4c-a84cc4e3b620",
   "metadata": {},
   "outputs": [],
   "source": [
    "# 특징 변수(X)와 목표 변수(y) 설정\n",
    "X = train_data[['Pclass', 'Sex', 'Age', 'SibSp', 'Parch', 'Fare', 'Embarked']]\n",
    "y = train_data['Survived']\n",
    "\n",
    "# 학습용/검증용 데이터 나누기\n",
    "X_train, X_val, y_train, y_val = train_test_split(X, y, test_size=0.2, random_state=42)"
   ]
  },
  {
   "cell_type": "code",
   "execution_count": 18,
   "id": "7c0f3986-cce9-4505-9f34-ec879939be68",
   "metadata": {},
   "outputs": [
    {
     "data": {
      "text/html": [
       "<style>#sk-container-id-3 {color: black;background-color: white;}#sk-container-id-3 pre{padding: 0;}#sk-container-id-3 div.sk-toggleable {background-color: white;}#sk-container-id-3 label.sk-toggleable__label {cursor: pointer;display: block;width: 100%;margin-bottom: 0;padding: 0.3em;box-sizing: border-box;text-align: center;}#sk-container-id-3 label.sk-toggleable__label-arrow:before {content: \"▸\";float: left;margin-right: 0.25em;color: #696969;}#sk-container-id-3 label.sk-toggleable__label-arrow:hover:before {color: black;}#sk-container-id-3 div.sk-estimator:hover label.sk-toggleable__label-arrow:before {color: black;}#sk-container-id-3 div.sk-toggleable__content {max-height: 0;max-width: 0;overflow: hidden;text-align: left;background-color: #f0f8ff;}#sk-container-id-3 div.sk-toggleable__content pre {margin: 0.2em;color: black;border-radius: 0.25em;background-color: #f0f8ff;}#sk-container-id-3 input.sk-toggleable__control:checked~div.sk-toggleable__content {max-height: 200px;max-width: 100%;overflow: auto;}#sk-container-id-3 input.sk-toggleable__control:checked~label.sk-toggleable__label-arrow:before {content: \"▾\";}#sk-container-id-3 div.sk-estimator input.sk-toggleable__control:checked~label.sk-toggleable__label {background-color: #d4ebff;}#sk-container-id-3 div.sk-label input.sk-toggleable__control:checked~label.sk-toggleable__label {background-color: #d4ebff;}#sk-container-id-3 input.sk-hidden--visually {border: 0;clip: rect(1px 1px 1px 1px);clip: rect(1px, 1px, 1px, 1px);height: 1px;margin: -1px;overflow: hidden;padding: 0;position: absolute;width: 1px;}#sk-container-id-3 div.sk-estimator {font-family: monospace;background-color: #f0f8ff;border: 1px dotted black;border-radius: 0.25em;box-sizing: border-box;margin-bottom: 0.5em;}#sk-container-id-3 div.sk-estimator:hover {background-color: #d4ebff;}#sk-container-id-3 div.sk-parallel-item::after {content: \"\";width: 100%;border-bottom: 1px solid gray;flex-grow: 1;}#sk-container-id-3 div.sk-label:hover label.sk-toggleable__label {background-color: #d4ebff;}#sk-container-id-3 div.sk-serial::before {content: \"\";position: absolute;border-left: 1px solid gray;box-sizing: border-box;top: 0;bottom: 0;left: 50%;z-index: 0;}#sk-container-id-3 div.sk-serial {display: flex;flex-direction: column;align-items: center;background-color: white;padding-right: 0.2em;padding-left: 0.2em;position: relative;}#sk-container-id-3 div.sk-item {position: relative;z-index: 1;}#sk-container-id-3 div.sk-parallel {display: flex;align-items: stretch;justify-content: center;background-color: white;position: relative;}#sk-container-id-3 div.sk-item::before, #sk-container-id-3 div.sk-parallel-item::before {content: \"\";position: absolute;border-left: 1px solid gray;box-sizing: border-box;top: 0;bottom: 0;left: 50%;z-index: -1;}#sk-container-id-3 div.sk-parallel-item {display: flex;flex-direction: column;z-index: 1;position: relative;background-color: white;}#sk-container-id-3 div.sk-parallel-item:first-child::after {align-self: flex-end;width: 50%;}#sk-container-id-3 div.sk-parallel-item:last-child::after {align-self: flex-start;width: 50%;}#sk-container-id-3 div.sk-parallel-item:only-child::after {width: 0;}#sk-container-id-3 div.sk-dashed-wrapped {border: 1px dashed gray;margin: 0 0.4em 0.5em 0.4em;box-sizing: border-box;padding-bottom: 0.4em;background-color: white;}#sk-container-id-3 div.sk-label label {font-family: monospace;font-weight: bold;display: inline-block;line-height: 1.2em;}#sk-container-id-3 div.sk-label-container {text-align: center;}#sk-container-id-3 div.sk-container {/* jupyter's `normalize.less` sets `[hidden] { display: none; }` but bootstrap.min.css set `[hidden] { display: none !important; }` so we also need the `!important` here to be able to override the default hidden behavior on the sphinx rendered scikit-learn.org. See: https://github.com/scikit-learn/scikit-learn/issues/21755 */display: inline-block !important;position: relative;}#sk-container-id-3 div.sk-text-repr-fallback {display: none;}</style><div id=\"sk-container-id-3\" class=\"sk-top-container\"><div class=\"sk-text-repr-fallback\"><pre>RandomForestClassifier(random_state=42)</pre><b>In a Jupyter environment, please rerun this cell to show the HTML representation or trust the notebook. <br />On GitHub, the HTML representation is unable to render, please try loading this page with nbviewer.org.</b></div><div class=\"sk-container\" hidden><div class=\"sk-item\"><div class=\"sk-estimator sk-toggleable\"><input class=\"sk-toggleable__control sk-hidden--visually\" id=\"sk-estimator-id-3\" type=\"checkbox\" checked><label for=\"sk-estimator-id-3\" class=\"sk-toggleable__label sk-toggleable__label-arrow\">RandomForestClassifier</label><div class=\"sk-toggleable__content\"><pre>RandomForestClassifier(random_state=42)</pre></div></div></div></div></div>"
      ],
      "text/plain": [
       "RandomForestClassifier(random_state=42)"
      ]
     },
     "execution_count": 18,
     "metadata": {},
     "output_type": "execute_result"
    }
   ],
   "source": [
    "#3. 모델 학습\n",
    "\n",
    "# 랜덤 포레스트 모델 학습\n",
    "rf_model = RandomForestClassifier(n_estimators=100, random_state=42)\n",
    "rf_model.fit(X_train, y_train)\n"
   ]
  },
  {
   "cell_type": "markdown",
   "id": "74d19c7f-c1a4-4db9-913d-31ec89cf1d5c",
   "metadata": {},
   "source": [
    "랜덤 포레스트(Random Forest) 알고리즘을 사용하여 학습합니다.\n",
    "train.csv의 데이터를 기반으로 승객의 생존 여부(Survived)를 예측하기 위해 여러 개의 결정 트리로 모델을 구성합니다.\n",
    "RandomForestClassifier(): 랜덤 포레스트 모델을 초기화하고, n_estimators=100으로 100개의 트리를 사용하여 학습합니다."
   ]
  },
  {
   "cell_type": "code",
   "execution_count": 19,
   "id": "f301526d-17e1-4c7a-9cc0-421f62e83a61",
   "metadata": {},
   "outputs": [
    {
     "name": "stdout",
     "output_type": "stream",
     "text": [
      "모델 정확도: 81.01%\n"
     ]
    }
   ],
   "source": [
    "#4. 성능 평가\n",
    "#모델을 검증용 데이터(X_val, y_val)로 평가하여 정확도를 계산합니다.\n",
    "#예측 결과와 실제 생존 여부를 비교하여 모델의 성능을 평가합니다.\n",
    "# 검증 데이터로 예측\n",
    "y_pred = rf_model.predict(X_val)\n",
    "\n",
    "\n",
    "# 성능 평가\n",
    "accuracy = accuracy_score(y_val, y_pred)\n",
    "print(f'모델 정확도: {accuracy * 100:.2f}%')\n",
    "\n",
    "# test.csv 데이터 전처리\n",
    "test_data['Sex'] = test_data['Sex'].map({'male': 0, 'female': 1})\n",
    "test_data['Embarked'] = test_data['Embarked'].map({'C': 0, 'Q': 1, 'S': 2})\n",
    "test_data['Age'].fillna(test_data['Age'].mean(), inplace=True)\n",
    "test_data['Fare'].fillna(test_data['Fare'].mean(), inplace=True)\n",
    "\n",
    "# 특징 변수 설정\n",
    "X_test = test_data[['Pclass', 'Sex', 'Age', 'SibSp', 'Parch', 'Fare', 'Embarked']]"
   ]
  },
  {
   "cell_type": "markdown",
   "id": "41173339-202a-405c-9f7b-35c9a571fb33",
   "metadata": {},
   "source": [
    "모델을 검증용 데이터(X_val, y_val)로 평가하여 정확도를 계산합니다.\n",
    "예측 결과와 실제 생존 여부를 비교하여 모델의 성능을 평가합니다."
   ]
  },
  {
   "cell_type": "code",
   "execution_count": 20,
   "id": "64d81d0f-57ee-4b54-a2cc-36709634a357",
   "metadata": {
    "scrolled": true
   },
   "outputs": [
    {
     "name": "stdout",
     "output_type": "stream",
     "text": [
      "Pclass        0\n",
      "Sex         418\n",
      "Age           0\n",
      "SibSp         0\n",
      "Parch         0\n",
      "Fare          0\n",
      "Embarked    418\n",
      "dtype: int64\n",
      "Predictions saved to submission.csv!\n"
     ]
    },
    {
     "name": "stderr",
     "output_type": "stream",
     "text": [
      "C:\\Users\\user\\AppData\\Local\\Temp\\ipykernel_11508\\294798913.py:5: SettingWithCopyWarning: \n",
      "A value is trying to be set on a copy of a slice from a DataFrame\n",
      "\n",
      "See the caveats in the documentation: https://pandas.pydata.org/pandas-docs/stable/user_guide/indexing.html#returning-a-view-versus-a-copy\n",
      "  X_test.fillna(0, inplace=True)  # 결측값 0으로 채움\n"
     ]
    }
   ],
   "source": [
    "#5. 예측 수행\n",
    "\n",
    "# 결측값 확인 및 처리\n",
    "print(X_test.isnull().sum())  # 결측값 확인\n",
    "X_test.fillna(0, inplace=True)  # 결측값 0으로 채움\n",
    "\n",
    "# 예측 수행\n",
    "test_predictions = rf_model.predict(X_test)\n",
    "\n",
    "# 예측 결과 저장\n",
    "output = pd.DataFrame({'PassengerId': test_data['PassengerId'], 'Survived': test_predictions})\n",
    "output.to_csv('submission.csv', index=False)\n",
    "\n",
    "print(\"Predictions saved to submission.csv!\")"
   ]
  },
  {
   "cell_type": "markdown",
   "id": "112e7d61-c1c1-4eb7-87c0-f7be6b76249b",
   "metadata": {},
   "source": [
    "test.csv 데이터를 이용해 승객들의 생존 여부를 예측하고, 결과를 submission.csv 파일로 저장합니다."
   ]
  },
  {
   "cell_type": "code",
   "execution_count": 21,
   "id": "2476bbaa-76c3-4a75-a7d2-cefd8ed7074c",
   "metadata": {},
   "outputs": [
    {
     "name": "stdout",
     "output_type": "stream",
     "text": [
      "예측 결과가 'submission.csv' 파일로 저장되었습니다.\n"
     ]
    }
   ],
   "source": [
    "#6. 결과 제출\n",
    "\n",
    "# 결과를 CSV 파일로 저장\n",
    "output.to_csv('submission.csv', index=False)\n",
    "\n",
    "print(\"예측 결과가 'submission.csv' 파일로 저장되었습니다.\")"
   ]
  },
  {
   "cell_type": "markdown",
   "id": "391fa830-f373-45de-9d49-1d1f0f512a03",
   "metadata": {},
   "source": [
    "예측 결과를 Kaggle에 제출할 수 있는 형식으로 저장하여 submission.csv 파일로 출력합니다."
   ]
  }
 ],
 "metadata": {
  "kernelspec": {
   "display_name": "Python 3 (ipykernel)",
   "language": "python",
   "name": "python3"
  },
  "language_info": {
   "codemirror_mode": {
    "name": "ipython",
    "version": 3
   },
   "file_extension": ".py",
   "mimetype": "text/x-python",
   "name": "python",
   "nbconvert_exporter": "python",
   "pygments_lexer": "ipython3",
   "version": "3.11.7"
  }
 },
 "nbformat": 4,
 "nbformat_minor": 5
}
